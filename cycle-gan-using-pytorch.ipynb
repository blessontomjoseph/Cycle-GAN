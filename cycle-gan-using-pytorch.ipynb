{
 "cells": [
  {
   "cell_type": "markdown",
   "id": "8c6bd88a",
   "metadata": {
    "papermill": {
     "duration": 0.029844,
     "end_time": "2022-04-07T19:00:26.612235",
     "exception": false,
     "start_time": "2022-04-07T19:00:26.582391",
     "status": "completed"
    },
    "tags": []
   },
   "source": [
    "\n",
    "## makin a gan"
   ]
  },
  {
   "cell_type": "markdown",
   "id": "1514e786",
   "metadata": {
    "papermill": {
     "duration": 0.018394,
     "end_time": "2022-04-07T19:00:26.657280",
     "exception": false,
     "start_time": "2022-04-07T19:00:26.638886",
     "status": "completed"
    },
    "tags": []
   },
   "source": [
    "The followig is an architecture of a cycle gan, here am using a data set of handwritten images 28x28 and trying to generate A's from B's and the other way around,the scope of these are far more than this but as i was starting it out i thought i'd approach it slowly ,also took inspirations from lotta other kaggle notebooks too, and i'll be trying to dig deep and do more better stuff from this sort of an architecture.\n",
    "so, feel free to discuss anything related ,and if you got any ideas or advices please share.\n",
    "enjoy.."
   ]
  },
  {
   "cell_type": "code",
   "execution_count": 1,
   "id": "e270b34f",
   "metadata": {
    "execution": {
     "iopub.execute_input": "2022-04-07T19:00:26.696638Z",
     "iopub.status.busy": "2022-04-07T19:00:26.695797Z",
     "iopub.status.idle": "2022-04-07T19:00:28.880437Z",
     "shell.execute_reply": "2022-04-07T19:00:28.879296Z",
     "shell.execute_reply.started": "2022-04-07T17:44:18.927182Z"
    },
    "papermill": {
     "duration": 2.209586,
     "end_time": "2022-04-07T19:00:28.880619",
     "exception": false,
     "start_time": "2022-04-07T19:00:26.671033",
     "status": "completed"
    },
    "tags": []
   },
   "outputs": [],
   "source": [
    "import torch\n",
    "import torchvision\n",
    "import torchvision.transforms as transforms\n",
    "import torch.nn as nn\n",
    "import torch.nn.functional as F\n",
    "import torch.optim as optim\n",
    "from torch.autograd import Variable\n",
    "import numpy as np\n",
    "import matplotlib.pyplot as plt\n",
    "import math\n",
    "from torch.utils.data import DataLoader"
   ]
  },
  {
   "cell_type": "code",
   "execution_count": 2,
   "id": "9203f5d2",
   "metadata": {
    "execution": {
     "iopub.execute_input": "2022-04-07T19:00:28.924708Z",
     "iopub.status.busy": "2022-04-07T19:00:28.923061Z",
     "iopub.status.idle": "2022-04-07T19:00:28.925433Z",
     "shell.execute_reply": "2022-04-07T19:00:28.925829Z",
     "shell.execute_reply.started": "2022-04-07T17:44:20.685540Z"
    },
    "papermill": {
     "duration": 0.031192,
     "end_time": "2022-04-07T19:00:28.926034",
     "exception": false,
     "start_time": "2022-04-07T19:00:28.894842",
     "status": "completed"
    },
    "tags": []
   },
   "outputs": [],
   "source": [
    "import warnings\n",
    "warnings.simplefilter('ignore')\n",
    "%config Complete.use_jedi=False"
   ]
  },
  {
   "cell_type": "code",
   "execution_count": 3,
   "id": "4330b3c3",
   "metadata": {
    "execution": {
     "iopub.execute_input": "2022-04-07T19:00:29.008684Z",
     "iopub.status.busy": "2022-04-07T19:00:29.007543Z",
     "iopub.status.idle": "2022-04-07T19:00:29.011573Z",
     "shell.execute_reply": "2022-04-07T19:00:29.011027Z",
     "shell.execute_reply.started": "2022-04-07T17:44:20.702220Z"
    },
    "papermill": {
     "duration": 0.071763,
     "end_time": "2022-04-07T19:00:29.011723",
     "exception": false,
     "start_time": "2022-04-07T19:00:28.939960",
     "status": "completed"
    },
    "tags": []
   },
   "outputs": [],
   "source": [
    "device=torch.device(\"cuda\" if torch.cuda.is_available() else \"cpu\")"
   ]
  },
  {
   "cell_type": "code",
   "execution_count": 4,
   "id": "ea92e4b3",
   "metadata": {
    "execution": {
     "iopub.execute_input": "2022-04-07T19:00:29.051442Z",
     "iopub.status.busy": "2022-04-07T19:00:29.050843Z",
     "iopub.status.idle": "2022-04-07T19:00:29.054613Z",
     "shell.execute_reply": "2022-04-07T19:00:29.054203Z",
     "shell.execute_reply.started": "2022-04-07T17:44:20.763138Z"
    },
    "papermill": {
     "duration": 0.028017,
     "end_time": "2022-04-07T19:00:29.054732",
     "exception": false,
     "start_time": "2022-04-07T19:00:29.026715",
     "status": "completed"
    },
    "tags": []
   },
   "outputs": [],
   "source": [
    "\n",
    "#loader function\n",
    "class data_load:\n",
    "    def __init__(self,url,mode='train',trans=None):\n",
    "        data=np.loadtxt(url,delimiter=',',skiprows=1,dtype=np.float32)\n",
    "        A=data[:,1:][data[:,0]==0]\n",
    "        B=data[:,1:][data[:,0]==1]\n",
    "        A=A.reshape(A.shape[0],28,28)/255\n",
    "        B=B.reshape(B.shape[0],28,28)/255\n",
    "        \n",
    "        if A.shape > B.shape:\n",
    "            limit= B.shape[0]\n",
    "        else:\n",
    "            limit=A.shape[0]\n",
    "        index=int(math.floor(limit*(4/5)))\n",
    "        if mode=='train': \n",
    "            self.A=A[:index,:]\n",
    "            self.B=B[:index,:]\n",
    "        elif mode=='test':\n",
    "            self.A=A[index:limit,:]\n",
    "            self.B=B[index:limit,:]\n",
    "        \n",
    "        \n",
    "        self.len=self.A.shape[0]    \n",
    "        self.trans=trans\n",
    "        \n",
    "    def __len__(self):\n",
    "        return self.len\n",
    "    \n",
    "    def __getitem__(self,index):\n",
    "        A=self.A[index]\n",
    "        B=self.B[index]\n",
    "        if self.trans is not None:\n",
    "            A=self.trans(A)\n",
    "            B=self.trans(B)\n",
    "        return A,B"
   ]
  },
  {
   "cell_type": "code",
   "execution_count": 5,
   "id": "427cc936",
   "metadata": {
    "execution": {
     "iopub.execute_input": "2022-04-07T19:00:29.087363Z",
     "iopub.status.busy": "2022-04-07T19:00:29.086784Z",
     "iopub.status.idle": "2022-04-07T19:05:50.430511Z",
     "shell.execute_reply": "2022-04-07T19:05:50.429986Z",
     "shell.execute_reply.started": "2022-04-07T17:44:20.779940Z"
    },
    "papermill": {
     "duration": 321.362202,
     "end_time": "2022-04-07T19:05:50.430657",
     "exception": false,
     "start_time": "2022-04-07T19:00:29.068455",
     "status": "completed"
    },
    "tags": []
   },
   "outputs": [],
   "source": [
    "##loading the data and apropriately transforming\n",
    "\n",
    "transformations=transforms.Compose([transforms.ToTensor(),\n",
    "                                    transforms.Normalize(0.5,0.5)\n",
    "                                   ])\n",
    "train_data=DataLoader(\n",
    "data_load(\"../input/az-handwritten-alphabets-in-csv-format/A_Z Handwritten Data.csv\",\n",
    "mode='train',\n",
    "trans=transformations),\n",
    "batch_size=20,\n",
    "shuffle=True)\n",
    "\n",
    "test_data=DataLoader(\n",
    "data_load(\"../input/az-handwritten-alphabets-in-csv-format/A_Z Handwritten Data.csv\",\n",
    "mode='test',\n",
    "trans=transformations),\n",
    "batch_size=20,\n",
    "shuffle=False)"
   ]
  },
  {
   "cell_type": "code",
   "execution_count": 6,
   "id": "39c8d2dc",
   "metadata": {
    "execution": {
     "iopub.execute_input": "2022-04-07T19:05:50.464926Z",
     "iopub.status.busy": "2022-04-07T19:05:50.463397Z",
     "iopub.status.idle": "2022-04-07T19:05:50.465547Z",
     "shell.execute_reply": "2022-04-07T19:05:50.465935Z",
     "shell.execute_reply.started": "2022-04-07T17:50:35.559940Z"
    },
    "papermill": {
     "duration": 0.022473,
     "end_time": "2022-04-07T19:05:50.466063",
     "exception": false,
     "start_time": "2022-04-07T19:05:50.443590",
     "status": "completed"
    },
    "tags": []
   },
   "outputs": [],
   "source": [
    "# discriminator\n",
    "class Discriminator(nn.Module):\n",
    "    def __init__(self,in_channels):\n",
    "        super().__init__()\n",
    "        self.main=nn.Sequential(\n",
    "            *self.block(in_channels,64,norm=False), #28-14\n",
    "            *self.block(64,128,norm=True),             #141-7\n",
    "            nn.ZeroPad2d((1,0,1,0)),                  #7-8\n",
    "            nn.Conv2d(128,1,4,1,1))             #8-7  fianl shape (batch_size x1x7x7)\n",
    "                                                                 \n",
    "                \n",
    "    @staticmethod    \n",
    "    def block(in_channels,out_channels,norm=False):\n",
    "        block=[nn.Conv2d(in_channels,out_channels,4,2,1)]\n",
    "        if norm:\n",
    "            block.append(nn.InstanceNorm2d(out_channels))\n",
    "        block.append(nn.LeakyReLU(0.2,inplace=True))\n",
    "        return block\n",
    "        \n",
    "    def forward(self,x):\n",
    "        return self.main(x)"
   ]
  },
  {
   "cell_type": "code",
   "execution_count": 7,
   "id": "60424e4d",
   "metadata": {
    "execution": {
     "iopub.execute_input": "2022-04-07T19:05:50.498287Z",
     "iopub.status.busy": "2022-04-07T19:05:50.497615Z",
     "iopub.status.idle": "2022-04-07T19:05:50.500125Z",
     "shell.execute_reply": "2022-04-07T19:05:50.499685Z",
     "shell.execute_reply.started": "2022-04-07T17:50:35.571733Z"
    },
    "papermill": {
     "duration": 0.02192,
     "end_time": "2022-04-07T19:05:50.500232",
     "exception": false,
     "start_time": "2022-04-07T19:05:50.478312",
     "status": "completed"
    },
    "tags": []
   },
   "outputs": [],
   "source": [
    "class ResidualBlock(nn.Module):\n",
    "    def __init__(self, in_channels):\n",
    "        super(ResidualBlock, self).__init__()\n",
    "        self.block = nn.Sequential(\n",
    "            nn.ReflectionPad2d(1), # padding, keep the image size constant after next conv2d\n",
    "            nn.Conv2d(in_channels, in_channels, 3),\n",
    "            nn.InstanceNorm2d(in_channels),\n",
    "            nn.ReLU(inplace=True),\n",
    "            nn.ReflectionPad2d(1),\n",
    "            nn.Conv2d(in_channels, in_channels, 3),\n",
    "            nn.InstanceNorm2d(in_channels)\n",
    "        )\n",
    "    \n",
    "    def forward(self, x):\n",
    "        return x + self.block(x)"
   ]
  },
  {
   "cell_type": "code",
   "execution_count": 8,
   "id": "c29be05e",
   "metadata": {
    "execution": {
     "iopub.execute_input": "2022-04-07T19:05:50.536831Z",
     "iopub.status.busy": "2022-04-07T19:05:50.536141Z",
     "iopub.status.idle": "2022-04-07T19:05:50.538638Z",
     "shell.execute_reply": "2022-04-07T19:05:50.538204Z",
     "shell.execute_reply.started": "2022-04-07T17:50:35.590281Z"
    },
    "papermill": {
     "duration": 0.02618,
     "end_time": "2022-04-07T19:05:50.538737",
     "exception": false,
     "start_time": "2022-04-07T19:05:50.512557",
     "status": "completed"
    },
    "tags": []
   },
   "outputs": [],
   "source": [
    "#generator\n",
    "\n",
    "class Generator(nn.Module):\n",
    "\n",
    "    def __init__(self,in_channels):\n",
    "        super().__init__()\n",
    "        #initial convolution\n",
    "        self.conv=nn.Sequential(nn.ReflectionPad2d(in_channels),\n",
    "                               nn.Conv2d(in_channels,64,(2*in_channels)+1),\n",
    "                               nn.InstanceNorm2d(64),\n",
    "                               nn.ReLU(inplace=True) #final image of same size,channel_size=64\n",
    "        )\n",
    "        \n",
    "        #downsample to 7x7, chanel_size to increase by doble evry time \n",
    "        self.down=nn.Sequential(*self.downer(64,128),\n",
    "                                *self.downer(128,256)\n",
    "                                \n",
    "        )\n",
    "        #does't change the size of the image at all\n",
    "        self.trans = [ResidualBlock(256) for _ in range(5)]\n",
    "        self.trans = nn.Sequential(*self.trans)\n",
    "        \n",
    "        #upsampling to original image size\n",
    "        self.up = nn.Sequential(*self.upper(256,128),\n",
    "                                *self.upper(128,64)\n",
    "                               \n",
    "                               )\n",
    "        \n",
    "        self.out = nn.Sequential(\n",
    "            nn.ReflectionPad2d(1),\n",
    "            nn.Conv2d(64,1, 2*in_channels+1),\n",
    "            nn.Tanh()\n",
    "        )\n",
    "    \n",
    "   \n",
    "    \n",
    "    @staticmethod\n",
    "    def downer(in_channels,out_channels):\n",
    "        block=[nn.Conv2d(in_channels,out_channels,3,2,1),\n",
    "               nn.InstanceNorm2d(out_channels),\n",
    "               nn.ReLU(inplace=True)]\n",
    "        return block\n",
    "    \n",
    "    @staticmethod    \n",
    "    def upper(in_channels,out_channels):\n",
    "        block=[nn.Upsample(scale_factor=2),\n",
    "               nn.Conv2d(in_channels, out_channels, 3, stride=1, padding=1),\n",
    "               nn.InstanceNorm2d(out_channels),\n",
    "               nn.ReLU(inplace=True)\n",
    "              ]\n",
    "        return block\n",
    "    \n",
    "    def forward(self, x):\n",
    "        x = self.conv(x)\n",
    "        x = self.down(x)\n",
    "        x = self.trans(x)\n",
    "        x = self.up(x)\n",
    "        x = self.out(x)\n",
    "        return x\n",
    "        "
   ]
  },
  {
   "cell_type": "code",
   "execution_count": 9,
   "id": "a2abfb79",
   "metadata": {
    "execution": {
     "iopub.execute_input": "2022-04-07T19:05:50.570655Z",
     "iopub.status.busy": "2022-04-07T19:05:50.569905Z",
     "iopub.status.idle": "2022-04-07T19:05:50.572306Z",
     "shell.execute_reply": "2022-04-07T19:05:50.571831Z",
     "shell.execute_reply.started": "2022-04-07T18:09:40.928014Z"
    },
    "papermill": {
     "duration": 0.02136,
     "end_time": "2022-04-07T19:05:50.572409",
     "exception": false,
     "start_time": "2022-04-07T19:05:50.551049",
     "status": "completed"
    },
    "tags": []
   },
   "outputs": [],
   "source": [
    "from torchvision.utils import make_grid\n",
    "\n",
    "def plot(real_a,real_b):\n",
    "    \"\"\"plots the generated images\n",
    "\n",
    "    Args:\n",
    "        real_a (tensor): real image a\n",
    "        real_b (tensor): real image b\n",
    "    \"\"\"\n",
    "    real_a=real_a.to(device)\n",
    "    real_b=real_b.to(device)\n",
    "    G_ab.eval()\n",
    "    G_ba.eval()\n",
    "    with torch.no_grad():\n",
    "        fake_a=G_ba(real_b[:5]).detach()\n",
    "        fake_b=G_ab(real_a[:5]).detach()\n",
    "\n",
    "        f_a=make_grid(fake_a)\n",
    "        f_b=make_grid(fake_b)\n",
    "        grid=torch.cat((f_a,f_b),1).to('cpu')\n",
    "        grid=transforms.functional.to_pil_image(grid)\n",
    "#         grid=grid\n",
    "        plt.figure(figsize=(8,8))\n",
    "        plt.matshow(grid)\n",
    "        plt.axis('off')\n",
    "        plt.show()"
   ]
  },
  {
   "cell_type": "code",
   "execution_count": 10,
   "id": "4ed8eebb",
   "metadata": {
    "execution": {
     "iopub.execute_input": "2022-04-07T19:05:50.619661Z",
     "iopub.status.busy": "2022-04-07T19:05:50.618975Z",
     "iopub.status.idle": "2022-04-07T19:34:15.377898Z",
     "shell.execute_reply": "2022-04-07T19:34:15.379054Z",
     "shell.execute_reply.started": "2022-04-07T18:09:50.790522Z"
    },
    "papermill": {
     "duration": 1704.794576,
     "end_time": "2022-04-07T19:34:15.379317",
     "exception": false,
     "start_time": "2022-04-07T19:05:50.584741",
     "status": "completed"
    },
    "tags": []
   },
   "outputs": [
    {
     "name": "stdout",
     "output_type": "stream",
     "text": [
      "\n",
      "            epoch = 10/60\n",
      "            gan_loss = 1.6888043880462646\n",
      "            subsidiaries:\n",
      "            id=0.1292325258255005 , gan=0.5938968658447266 , cy=0.04487449303269386\n",
      " \n",
      "            total_d_loss = 0.16719132661819458\n",
      "            subsidiaries:\n",
      "            da=0.16594159603118896 , db=0.1684410572052002\n",
      "            \n"
     ]
    },
    {
     "data": {
      "text/plain": [
       "<Figure size 576x576 with 0 Axes>"
      ]
     },
     "metadata": {},
     "output_type": "display_data"
    },
    {
     "data": {
      "image/png": "[encoded data removed]",
      "text/plain": [
       "<Figure size 684x288 with 1 Axes>"
      ]
     },
     "metadata": {
      "needs_background": "light"
     },
     "output_type": "display_data"
    },
    {
     "name": "stdout",
     "output_type": "stream",
     "text": [
      "\n",
      "            epoch = 20/60\n",
      "            gan_loss = 1.4392390251159668\n",
      "            subsidiaries:\n",
      "            id=0.12672582268714905 , gan=0.5305739045143127 , cy=0.027503613382577896\n",
      " \n",
      "            total_d_loss = 0.1844668686389923\n",
      "            subsidiaries:\n",
      "            da=0.18645727634429932 , db=0.1824764609336853\n",
      "            \n"
     ]
    },
    {
     "data": {
      "text/plain": [
       "<Figure size 576x576 with 0 Axes>"
      ]
     },
     "metadata": {},
     "output_type": "display_data"
    },
    {
     "data": {
      "image/png": "[encoded data removed]",
      "text/plain": [
       "<Figure size 684x288 with 1 Axes>"
      ]
     },
     "metadata": {
      "needs_background": "light"
     },
     "output_type": "display_data"
    },
    {
     "name": "stdout",
     "output_type": "stream",
     "text": [
      "\n",
      "            epoch = 30/60\n",
      "            gan_loss = 1.3928658962249756\n",
      "            subsidiaries:\n",
      "            id=0.1377393901348114 , gan=0.44785818457603455 , cy=0.025631073862314224\n",
      " \n",
      "            total_d_loss = 0.16653387248516083\n",
      "            subsidiaries:\n",
      "            da=0.17280545830726624 , db=0.16026228666305542\n",
      "            \n"
     ]
    },
    {
     "data": {
      "text/plain": [
       "<Figure size 576x576 with 0 Axes>"
      ]
     },
     "metadata": {},
     "output_type": "display_data"
    },
    {
     "data": {
      "image/png": "[encoded data removed]",
      "text/plain": [
       "<Figure size 684x288 with 1 Axes>"
      ]
     },
     "metadata": {
      "needs_background": "light"
     },
     "output_type": "display_data"
    },
    {
     "name": "stdout",
     "output_type": "stream",
     "text": [
      "\n",
      "            epoch = 40/60\n",
      "            gan_loss = 1.4519233703613281\n",
      "            subsidiaries:\n",
      "            id=0.14805760979652405 , gan=0.4884798526763916 , cy=0.02231554314494133\n",
      " \n",
      "            total_d_loss = 0.1665458381175995\n",
      "            subsidiaries:\n",
      "            da=0.18895281851291656 , db=0.1441388726234436\n",
      "            \n"
     ]
    },
    {
     "data": {
      "text/plain": [
       "<Figure size 576x576 with 0 Axes>"
      ]
     },
     "metadata": {},
     "output_type": "display_data"
    },
    {
     "data": {
      "image/png": "[encoded data removed]",
      "text/plain": [
       "<Figure size 684x288 with 1 Axes>"
      ]
     },
     "metadata": {
      "needs_background": "light"
     },
     "output_type": "display_data"
    },
    {
     "name": "stdout",
     "output_type": "stream",
     "text": [
      "\n",
      "            epoch = 50/60\n",
      "            gan_loss = 1.3368297815322876\n",
      "            subsidiaries:\n",
      "            id=0.13041500747203827 , gan=0.49994245171546936 , cy=0.01848122850060463\n",
      " \n",
      "            total_d_loss = 0.16206684708595276\n",
      "            subsidiaries:\n",
      "            da=0.14705020189285278 , db=0.17708349227905273\n",
      "            \n"
     ]
    },
    {
     "data": {
      "text/plain": [
       "<Figure size 576x576 with 0 Axes>"
      ]
     },
     "metadata": {},
     "output_type": "display_data"
    },
    {
     "data": {
      "image/png": "[encoded data removed]",
      "text/plain": [
       "<Figure size 684x288 with 1 Axes>"
      ]
     },
     "metadata": {
      "needs_background": "light"
     },
     "output_type": "display_data"
    },
    {
     "name": "stdout",
     "output_type": "stream",
     "text": [
      "\n",
      "            epoch = 60/60\n",
      "            gan_loss = 1.360185980796814\n",
      "            subsidiaries:\n",
      "            id=0.16062334179878235 , gan=0.41612082719802856 , cy=0.014094840735197067\n",
      " \n",
      "            total_d_loss = 0.15282054245471954\n",
      "            subsidiaries:\n",
      "            da=0.1431436538696289 , db=0.16249743103981018\n",
      "            \n"
     ]
    },
    {
     "data": {
      "text/plain": [
       "<Figure size 576x576 with 0 Axes>"
      ]
     },
     "metadata": {},
     "output_type": "display_data"
    },
    {
     "data": {
      "image/png": "[encoded data removed]",
      "text/plain": [
       "<Figure size 684x288 with 1 Axes>"
      ]
     },
     "metadata": {
      "needs_background": "light"
     },
     "output_type": "display_data"
    }
   ],
   "source": [
    "# criterions\n",
    "criterion_gan=nn.MSELoss()\n",
    "criterion_cycle=nn.L1Loss()\n",
    "criterion_identity=nn.L1Loss()\n",
    "\n",
    "#changing to device\n",
    "criterion_gan.to(device)\n",
    "criterion_cycle.to(device)\n",
    "criterion_identity.to(device)\n",
    "\n",
    "#model\n",
    "G_ab=Generator(1)\n",
    "G_ba=Generator(1)\n",
    "D_a=Discriminator(1)\n",
    "D_b=Discriminator(1)\n",
    "\n",
    "#changing them to device\n",
    "G_ab=G_ab.to(device)\n",
    "G_ba=G_ba.to(device)\n",
    "D_a=D_a.to(device)\n",
    "D_b=D_b.to(device)\n",
    "\n",
    "\n",
    "#optimizer\n",
    "import itertools\n",
    "lr = 0.0005\n",
    "b1 = 0.5\n",
    "b2 = 0.996\n",
    "\n",
    "optim_G=optim.Adam(itertools.chain(G_ab.parameters(),G_ba.parameters()),lr=lr,betas=(b1,b2))\n",
    "optim_Da=optim.Adam(D_a.parameters(),lr=lr,betas=(b1,b2))\n",
    "optim_Db=optim.Adam(D_b.parameters(),lr=lr,betas=(b1,b2))\n",
    "\n",
    "\n",
    "#lr scheduler\n",
    "epochs = 60\n",
    "decay_epoch = 20\n",
    "lambda_func = lambda epoch: 1 - max(0, epoch-decay_epoch)/(epochs-decay_epoch)\n",
    "lr_scheduler_G = torch.optim.lr_scheduler.LambdaLR(optim_G, lr_lambda=lambda_func)\n",
    "lr_scheduler_D_A = torch.optim.lr_scheduler.LambdaLR(optim_Da, lr_lambda=lambda_func)\n",
    "lr_scheduler_D_B = torch.optim.lr_scheduler.LambdaLR(optim_Db, lr_lambda=lambda_func)\n",
    "\n",
    "\n",
    "for epoch in range(epochs):\n",
    "    for i,(a,b) in enumerate(train_data):\n",
    "        a,b=a.to(device),b.to(device)\n",
    "        shape=[int(a.size(0)),1,int(a.size(2)/4),int(a.size(3)/4)]\n",
    "        real_label=torch.ones(shape,device=device)\n",
    "        fake_label=torch.zeros(shape,device=device)\n",
    "        \n",
    "        G_ab.train()\n",
    "        G_ba.train()\n",
    "        \n",
    "        fake_b=G_ab(a)\n",
    "        fake_a=G_ba(b)\n",
    "        \n",
    "        #loss beetween in _im and out_im\n",
    "        id_1=criterion_identity(fake_b,a)\n",
    "        id_2=criterion_identity(fake_a,b)\n",
    "        main_id=(id_1+id_2)/2\n",
    "        \n",
    "        #missguiding \n",
    "        gan_1=criterion_gan(D_a(fake_a),real_label)\n",
    "        gan_2=criterion_gan(D_b(fake_b),real_label)\n",
    "        main_gan=(gan_1+gan_2)/2\n",
    "        \n",
    "        \n",
    "        cy_1=criterion_cycle(G_ba(fake_b),a)\n",
    "        cy_2=criterion_cycle(G_ab(fake_a),b)\n",
    "        main_cy=(cy_1+cy_2)/2\n",
    "        \n",
    "        gan_loss=5*main_id + main_gan +10*main_cy\n",
    "        optim_G.zero_grad()\n",
    "        gan_loss.backward()\n",
    "        optim_G.step()\n",
    "        \n",
    "        #trainnig_D_a\n",
    "        optim_Da.zero_grad()\n",
    "        da_1=criterion_gan(D_a(fake_a.detach()),fake_label)\n",
    "        da_2=criterion_gan(D_a(a),real_label)\n",
    "        loss_da=(da_1+da_2)/2\n",
    "        loss_da.backward()\n",
    "        optim_Da.step()\n",
    "        #training D_b\n",
    "        optim_Db.zero_grad()\n",
    "        db_1=criterion_gan(D_b(fake_b.detach()),fake_label)\n",
    "        db_2=criterion_gan(D_b(b),real_label)\n",
    "        loss_db=(db_1+db_2)/2\n",
    "        loss_db.backward()\n",
    "        optim_Db.step()\n",
    "        \n",
    "    lr_scheduler_G.step()\n",
    "    lr_scheduler_D_A.step()\n",
    "    lr_scheduler_D_B.step()\n",
    "    \n",
    "    with torch.no_grad():\n",
    "        \n",
    "        if (epoch+1)%10==0:\n",
    "\n",
    "            loss_d=(loss_da+loss_db)/2\n",
    "            print(f'''\n",
    "            epoch = {epoch+1}/{epochs}\n",
    "            gan_loss = {gan_loss.item()}\n",
    "            subsidiaries:\n",
    "            id={main_id.item()} , gan={main_gan.item()} , cy={main_cy.item()}\n",
    " \n",
    "            total_d_loss = {loss_d.item()}\n",
    "            subsidiaries:\n",
    "            da={loss_da.item()} , db={loss_db.item()}\n",
    "            ''')\n",
    "\n",
    "            a,b=next(iter(train_data))\n",
    "            plot(a,b)"
   ]
  },
  {
   "cell_type": "code",
   "execution_count": null,
   "id": "f48a79f4",
   "metadata": {
    "papermill": {
     "duration": 0.040228,
     "end_time": "2022-04-07T19:34:15.460980",
     "exception": false,
     "start_time": "2022-04-07T19:34:15.420752",
     "status": "completed"
    },
    "tags": []
   },
   "outputs": [],
   "source": []
  },
  {
   "cell_type": "code",
   "execution_count": null,
   "id": "828bbb4c",
   "metadata": {
    "papermill": {
     "duration": 0.021897,
     "end_time": "2022-04-07T19:34:15.509451",
     "exception": false,
     "start_time": "2022-04-07T19:34:15.487554",
     "status": "completed"
    },
    "tags": []
   },
   "outputs": [],
   "source": []
  },
  {
   "cell_type": "code",
   "execution_count": null,
   "id": "e85ec27a",
   "metadata": {
    "papermill": {
     "duration": 0.021395,
     "end_time": "2022-04-07T19:34:15.552581",
     "exception": false,
     "start_time": "2022-04-07T19:34:15.531186",
     "status": "completed"
    },
    "tags": []
   },
   "outputs": [],
   "source": []
  }
 ],
 "metadata": {
  "kernelspec": {
   "display_name": "Python 3",
   "language": "python",
   "name": "python3"
  },
  "language_info": {
   "codemirror_mode": {
    "name": "ipython",
    "version": 3
   },
   "file_extension": ".py",
   "mimetype": "text/x-python",
   "name": "python",
   "nbconvert_exporter": "python",
   "pygments_lexer": "ipython3",
   "version": "3.7.12"
  },
  "papermill": {
   "default_parameters": {},
   "duration": 2038.434467,
   "end_time": "2022-04-07T19:34:16.889946",
   "environment_variables": {},
   "exception": null,
   "input_path": "__notebook__.ipynb",
   "output_path": "__notebook__.ipynb",
   "parameters": {},
   "start_time": "2022-04-07T19:00:18.455479",
   "version": "2.3.3"
  }
 },
 "nbformat": 4,
 "nbformat_minor": 5
}
